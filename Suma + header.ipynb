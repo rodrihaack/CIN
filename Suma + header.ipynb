{
 "cells": [
  {
   "cell_type": "code",
   "execution_count": 40,
   "metadata": {},
   "outputs": [],
   "source": [
    "from astropy.io import fits\n",
    "\n",
    "img_i = fits.getdata('Interacting_I.fits')\n",
    "img_r = fits.getdata('Interacting_R.fits')\n",
    "img_g = fits.getdata('Interacting_G.fits')\n",
    "img_z = fits.getdata('Interacting_Z.fits') \n",
    "suma_filtros = img_i + img_r + img_g + img_z\n",
    "fits.writeto('salida.fits', suma_filtros, overwrite=True) # save output\"\n",
    "\n",
    "\n",
    "hdul1 = fits.open('Interacting_I.fits')\n",
    "hdul2 = fits.open('salida.fits')\n",
    "\n",
    "\n",
    "hdr1 = hdul1[0].header\n",
    "hdul2[0].header = hdr1\n",
    "#hdr2.set()=hdr1\n",
    "\n",
    "\n",
    "fits.writeto('salida.fits', hdul2[0].data, header = hdul2[0].header, overwrite=True)\n"
   ]
  }
 ],
 "metadata": {
  "kernelspec": {
   "display_name": "Python 3",
   "language": "python",
   "name": "python3"
  },
  "language_info": {
   "codemirror_mode": {
    "name": "ipython",
    "version": 3
   },
   "file_extension": ".py",
   "mimetype": "text/x-python",
   "name": "python",
   "nbconvert_exporter": "python",
   "pygments_lexer": "ipython3",
   "version": "3.7.3"
  }
 },
 "nbformat": 4,
 "nbformat_minor": 2
}
